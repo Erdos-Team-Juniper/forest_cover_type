{
 "cells": [
  {
   "cell_type": "markdown",
   "id": "4a7b8663",
   "metadata": {},
   "source": [
    "# Model comparisons"
   ]
  },
  {
   "cell_type": "markdown",
   "id": "682fa082",
   "metadata": {},
   "source": [
    "Plan to test\n",
    "- Random forest\n",
    "- CNN\n",
    "- Kernel SVM ?\n",
    "- Gradient Boosting ?"
   ]
  },
  {
   "cell_type": "code",
   "execution_count": 26,
   "id": "9ae6b861",
   "metadata": {},
   "outputs": [],
   "source": [
    "import numpy as np\n",
    "import pandas as pd\n",
    "from sklearn.model_selection import KFold, train_test_split\n",
    "from sklearn.ensemble import RandomForestClassifier\n",
    "from sklearn.metrics import confusion_matrix\n",
    "import seaborn as sns\n",
    "import matplotlib.pyplot as plt"
   ]
  },
  {
   "cell_type": "code",
   "execution_count": 2,
   "id": "d4246f22",
   "metadata": {},
   "outputs": [],
   "source": [
    "data = pd.read_csv(\"G:/My Drive/Erdos/Fall2022_Juniper/train.csv\")"
   ]
  },
  {
   "cell_type": "code",
   "execution_count": 3,
   "id": "f6fae69c",
   "metadata": {},
   "outputs": [
    {
     "name": "stdout",
     "output_type": "stream",
     "text": [
      "<class 'pandas.core.frame.DataFrame'>\n",
      "RangeIndex: 15120 entries, 0 to 15119\n",
      "Data columns (total 56 columns):\n",
      " #   Column                              Non-Null Count  Dtype\n",
      "---  ------                              --------------  -----\n",
      " 0   Id                                  15120 non-null  int64\n",
      " 1   Elevation                           15120 non-null  int64\n",
      " 2   Aspect                              15120 non-null  int64\n",
      " 3   Slope                               15120 non-null  int64\n",
      " 4   Horizontal_Distance_To_Hydrology    15120 non-null  int64\n",
      " 5   Vertical_Distance_To_Hydrology      15120 non-null  int64\n",
      " 6   Horizontal_Distance_To_Roadways     15120 non-null  int64\n",
      " 7   Hillshade_9am                       15120 non-null  int64\n",
      " 8   Hillshade_Noon                      15120 non-null  int64\n",
      " 9   Hillshade_3pm                       15120 non-null  int64\n",
      " 10  Horizontal_Distance_To_Fire_Points  15120 non-null  int64\n",
      " 11  Wilderness_Area1                    15120 non-null  int64\n",
      " 12  Wilderness_Area2                    15120 non-null  int64\n",
      " 13  Wilderness_Area3                    15120 non-null  int64\n",
      " 14  Wilderness_Area4                    15120 non-null  int64\n",
      " 15  Soil_Type1                          15120 non-null  int64\n",
      " 16  Soil_Type2                          15120 non-null  int64\n",
      " 17  Soil_Type3                          15120 non-null  int64\n",
      " 18  Soil_Type4                          15120 non-null  int64\n",
      " 19  Soil_Type5                          15120 non-null  int64\n",
      " 20  Soil_Type6                          15120 non-null  int64\n",
      " 21  Soil_Type7                          15120 non-null  int64\n",
      " 22  Soil_Type8                          15120 non-null  int64\n",
      " 23  Soil_Type9                          15120 non-null  int64\n",
      " 24  Soil_Type10                         15120 non-null  int64\n",
      " 25  Soil_Type11                         15120 non-null  int64\n",
      " 26  Soil_Type12                         15120 non-null  int64\n",
      " 27  Soil_Type13                         15120 non-null  int64\n",
      " 28  Soil_Type14                         15120 non-null  int64\n",
      " 29  Soil_Type15                         15120 non-null  int64\n",
      " 30  Soil_Type16                         15120 non-null  int64\n",
      " 31  Soil_Type17                         15120 non-null  int64\n",
      " 32  Soil_Type18                         15120 non-null  int64\n",
      " 33  Soil_Type19                         15120 non-null  int64\n",
      " 34  Soil_Type20                         15120 non-null  int64\n",
      " 35  Soil_Type21                         15120 non-null  int64\n",
      " 36  Soil_Type22                         15120 non-null  int64\n",
      " 37  Soil_Type23                         15120 non-null  int64\n",
      " 38  Soil_Type24                         15120 non-null  int64\n",
      " 39  Soil_Type25                         15120 non-null  int64\n",
      " 40  Soil_Type26                         15120 non-null  int64\n",
      " 41  Soil_Type27                         15120 non-null  int64\n",
      " 42  Soil_Type28                         15120 non-null  int64\n",
      " 43  Soil_Type29                         15120 non-null  int64\n",
      " 44  Soil_Type30                         15120 non-null  int64\n",
      " 45  Soil_Type31                         15120 non-null  int64\n",
      " 46  Soil_Type32                         15120 non-null  int64\n",
      " 47  Soil_Type33                         15120 non-null  int64\n",
      " 48  Soil_Type34                         15120 non-null  int64\n",
      " 49  Soil_Type35                         15120 non-null  int64\n",
      " 50  Soil_Type36                         15120 non-null  int64\n",
      " 51  Soil_Type37                         15120 non-null  int64\n",
      " 52  Soil_Type38                         15120 non-null  int64\n",
      " 53  Soil_Type39                         15120 non-null  int64\n",
      " 54  Soil_Type40                         15120 non-null  int64\n",
      " 55  Cover_Type                          15120 non-null  int64\n",
      "dtypes: int64(56)\n",
      "memory usage: 6.5 MB\n"
     ]
    }
   ],
   "source": [
    "data.info()"
   ]
  },
  {
   "cell_type": "markdown",
   "id": "092fdd67",
   "metadata": {},
   "source": [
    "No missing data"
   ]
  },
  {
   "cell_type": "code",
   "execution_count": 4,
   "id": "a989386d",
   "metadata": {},
   "outputs": [],
   "source": [
    "data1 = data.copy(deep=True)\n",
    "X = data1.drop(['Cover_Type'],axis=1)\n",
    "y = data1['Cover_Type']"
   ]
  },
  {
   "cell_type": "markdown",
   "id": "dc8181ee",
   "metadata": {},
   "source": [
    "implement cross-validataion later-\n",
    "kfold = KFold(n_splits = 5, shuffle = True, random_state = 314)"
   ]
  },
  {
   "cell_type": "code",
   "execution_count": 5,
   "id": "b62baef3",
   "metadata": {},
   "outputs": [],
   "source": [
    "X_train,X_test, y_train, y_test = train_test_split(X,y,\n",
    "                               shuffle = True,\n",
    "                               random_state=314,\n",
    "                               test_size=0.3)"
   ]
  },
  {
   "cell_type": "code",
   "execution_count": 10,
   "id": "f97e4e2c",
   "metadata": {},
   "outputs": [
    {
     "name": "stdout",
     "output_type": "stream",
     "text": [
      "The number of occurances of each class = {1: 1521, 2: 1496, 3: 1522, 4: 1483, 5: 1525, 6: 1477, 7: 1560}  \n",
      "\n"
     ]
    }
   ],
   "source": [
    "unique, count= np.unique(y_train, return_counts=True)\n",
    "print(\"The number of occurances of each class = %s \" % dict (zip(unique, count) ), \"\\n\" )"
   ]
  },
  {
   "cell_type": "code",
   "execution_count": 27,
   "id": "b1e40e50",
   "metadata": {},
   "outputs": [
    {
     "name": "stderr",
     "output_type": "stream",
     "text": [
      "C:\\Users\\m0eka\\Anaconda3\\lib\\site-packages\\seaborn\\_decorators.py:36: FutureWarning: Pass the following variable as a keyword arg: x. From version 0.12, the only valid positional argument will be `data`, and passing other arguments without an explicit keyword will result in an error or misinterpretation.\n",
      "  warnings.warn(\n"
     ]
    },
    {
     "data": {
      "text/plain": [
       "<AxesSubplot:>"
      ]
     },
     "execution_count": 27,
     "metadata": {},
     "output_type": "execute_result"
    },
    {
     "data": {
      "image/png": "[encoded data removed]",
      "text/plain": [
       "<Figure size 432x288 with 1 Axes>"
      ]
     },
     "metadata": {},
     "output_type": "display_data"
    }
   ],
   "source": [
    "sns.boxplot(count)"
   ]
  },
  {
   "cell_type": "markdown",
   "id": "324a1231",
   "metadata": {},
   "source": [
    "No outliers. The number of occurances in each class are roughly similar."
   ]
  },
  {
   "cell_type": "markdown",
   "id": "19253208",
   "metadata": {},
   "source": [
    "## Random Forest"
   ]
  },
  {
   "cell_type": "markdown",
   "id": "00571995",
   "metadata": {},
   "source": [
    "No need for standard scaling. Find the best accuracy scores with n_estimators of 100, 200, 300, and 400."
   ]
  },
  {
   "cell_type": "code",
   "execution_count": 21,
   "id": "40425f48",
   "metadata": {},
   "outputs": [
    {
     "name": "stdout",
     "output_type": "stream",
     "text": [
      "{100: 0.8629, 200: 0.8668, 300: 0.8697, 400: 0.8682}\n"
     ]
    }
   ],
   "source": [
    "rf_accuracy = {}\n",
    "for i in range(1,5):\n",
    "    rf = RandomForestClassifier(n_estimators = 100*i)\n",
    "    rf.fit(X_train,y_train)\n",
    "    y_pred = rf.predict(X_test)\n",
    "    rf_accuracy[100*i] = round(accuracy_score(y_test, y_pred),4)\n",
    "print(rf_accuracy)"
   ]
  },
  {
   "cell_type": "markdown",
   "id": "99bb0828",
   "metadata": {},
   "source": [
    "n_estimators of 300 has the highest accuracy among 4. So, let's use this for the later analysis."
   ]
  },
  {
   "cell_type": "code",
   "execution_count": 22,
   "id": "f9e9d002",
   "metadata": {},
   "outputs": [],
   "source": [
    "rf = RandomForestClassifier(n_estimators = 300)\n",
    "rf.fit(X_train,y_train)\n",
    "y_pred = rf.predict(X_test)"
   ]
  },
  {
   "cell_type": "code",
   "execution_count": 23,
   "id": "792f0fcc",
   "metadata": {},
   "outputs": [
    {
     "data": {
      "image/png": "[encoded data removed]",
      "text/plain": [
       "<Figure size 576x360 with 2 Axes>"
      ]
     },
     "metadata": {},
     "output_type": "display_data"
    }
   ],
   "source": [
    "rf_confusion = confusion_matrix(y_test,y_pred)\n",
    "rf_cm = pd.DataFrame(rf_confusion, \n",
    "                     index = [i for i in \"1234567\"],\n",
    "                     columns = [i for i in \"1234567\"])\n",
    "plt.figure(figsize=(8,5))\n",
    "sn.set(font_scale=1)\n",
    "sn.heatmap(rf_cm,annot=True,fmt='g', cmap='Blues',\n",
    "           annot_kws={\"size\": 10})\n",
    "plt.show()"
   ]
  },
  {
   "cell_type": "code",
   "execution_count": 24,
   "id": "faaa1d60",
   "metadata": {},
   "outputs": [
    {
     "name": "stdout",
     "output_type": "stream",
     "text": [
      "Random Forest Model\n",
      "\n",
      "Accuracy: 0.87\n",
      "\n",
      "Micro Precision: 0.87\n",
      "Micro Recall: 0.87\n",
      "Micro F1-score: 0.87\n",
      "\n",
      "Macro Precision: 0.87\n",
      "Macro Recall: 0.87\n",
      "Macro F1-score: 0.87\n",
      "\n",
      "Weighted Precision: 0.87\n",
      "Weighted Recall: 0.87\n",
      "Weighted F1-score: 0.87\n",
      "\n",
      "Classification Report\n",
      "\n",
      "              precision    recall  f1-score   support\n",
      "\n",
      "           1       0.78      0.78      0.78       639\n",
      "           2       0.80      0.71      0.75       664\n",
      "           3       0.85      0.83      0.84       638\n",
      "           4       0.93      0.98      0.95       677\n",
      "           5       0.90      0.96      0.93       635\n",
      "           6       0.87      0.87      0.87       683\n",
      "           7       0.94      0.96      0.95       600\n",
      "\n",
      "    accuracy                           0.87      4536\n",
      "   macro avg       0.87      0.87      0.87      4536\n",
      "weighted avg       0.87      0.87      0.87      4536\n",
      "\n"
     ]
    }
   ],
   "source": [
    "#importing accuracy_score, precision_score, recall_score, f1_score\n",
    "from sklearn.metrics import accuracy_score, precision_score, recall_score, f1_score\n",
    "print('Random Forest Model')\n",
    "print('\\nAccuracy: {:.2f}\\n'.format(accuracy_score(y_test, y_pred)))\n",
    "\n",
    "print('Micro Precision: {:.2f}'.format(precision_score(y_test, y_pred, average='micro')))\n",
    "print('Micro Recall: {:.2f}'.format(recall_score(y_test, y_pred, average='micro')))\n",
    "print('Micro F1-score: {:.2f}\\n'.format(f1_score(y_test, y_pred, average='micro')))\n",
    "\n",
    "print('Macro Precision: {:.2f}'.format(precision_score(y_test, y_pred, average='macro')))\n",
    "print('Macro Recall: {:.2f}'.format(recall_score(y_test, y_pred, average='macro')))\n",
    "print('Macro F1-score: {:.2f}\\n'.format(f1_score(y_test, y_pred, average='macro')))\n",
    "\n",
    "print('Weighted Precision: {:.2f}'.format(precision_score(y_test, y_pred, average='weighted')))\n",
    "print('Weighted Recall: {:.2f}'.format(recall_score(y_test, y_pred, average='weighted')))\n",
    "print('Weighted F1-score: {:.2f}'.format(f1_score(y_test, y_pred, average='weighted')))\n",
    "\n",
    "from sklearn.metrics import classification_report\n",
    "print('\\nClassification Report\\n')\n",
    "print(classification_report(y_test, y_pred, \n",
    "                            target_names=['1','2','3','4','5','6','7']))"
   ]
  }
 ],
 "metadata": {
  "kernelspec": {
   "display_name": "Python 3 (ipykernel)",
   "language": "python",
   "name": "python3"
  },
  "language_info": {
   "codemirror_mode": {
    "name": "ipython",
    "version": 3
   },
   "file_extension": ".py",
   "mimetype": "text/x-python",
   "name": "python",
   "nbconvert_exporter": "python",
   "pygments_lexer": "ipython3",
   "version": "3.9.12"
  }
 },
 "nbformat": 4,
 "nbformat_minor": 5
}
