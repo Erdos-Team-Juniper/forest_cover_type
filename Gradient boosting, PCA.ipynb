{
 "cells": [
  {
   "cell_type": "markdown",
   "metadata": {},
   "source": [
    "## More Model Comparisons\n",
    "Gradient boosting and adaboosting"
   ]
  },
  {
   "cell_type": "code",
   "execution_count": null,
   "metadata": {},
   "outputs": [],
   "source": [
    "import numpy as np\n",
    "import pandas as pd\n",
    "import matplotlib.pyplot as plt\n",
    "from seaborn import set_style\n",
    "set_style(\"whitegrid\")\n",
    "import seaborn as sns\n",
    "import matplotlib.pyplot as plt\n",
    "\n",
    "from sklearn.model_selection import train_test_split\n",
    "from sklearn.model_selection import StratifiedKFold\n",
    "from sklearn.decomposition import PCA\n",
    "from sklearn.preprocessing import StandardScaler\n",
    "from sklearn.pipeline import Pipeline"
   ]
  },
  {
   "cell_type": "code",
   "execution_count": 12,
   "metadata": {},
   "outputs": [],
   "source": [
    "# Reading in data\n",
    "\n",
    "data = pd.read_csv('/Users/Chris/Documents/Data/train.csv/train.csv')"
   ]
  },
  {
   "cell_type": "code",
   "execution_count": 13,
   "metadata": {},
   "outputs": [],
   "source": [
    "# Train-test split\n",
    "\n",
    "data_train, data_test = train_test_split(data.copy(deep=True), test_size=0.1, random_state=314,\n",
    "                                          stratify=data['Cover_Type'])"
   ]
  },
  {
   "cell_type": "code",
   "execution_count": 14,
   "metadata": {},
   "outputs": [],
   "source": [
    "# Definining the continuous variables (soil types and wilderness areas are the categorical variables)\n",
    "\n",
    "contvars = data.columns[1:11]\n",
    "\n",
    "# Definining the categorical variables (soil types and wilderness areas are the categorical variables)\n",
    "catvars = data.columns[11:-1]"
   ]
  },
  {
   "cell_type": "code",
   "execution_count": 19,
   "metadata": {},
   "outputs": [],
   "source": [
    "#dropping the irrelevant soils\n",
    "\n",
    "data1 = data.copy(deep=True)\n",
    "X = data1.drop(['Cover_Type'],axis=1)\n",
    "y = data1['Cover_Type']\n"
   ]
  },
  {
   "cell_type": "code",
   "execution_count": 17,
   "metadata": {},
   "outputs": [],
   "source": [
    "from sklearn.ensemble import RandomForestClassifier\n",
    "from sklearn.metrics import confusion_matrix, accuracy_score"
   ]
  },
  {
   "cell_type": "markdown",
   "metadata": {},
   "source": [
    "## Does PCA improve our models?\n",
    "(Spoiler, it won't)"
   ]
  },
  {
   "cell_type": "code",
   "execution_count": 21,
   "metadata": {},
   "outputs": [
    {
     "name": "stderr",
     "output_type": "stream",
     "text": [
      "C:\\Users\\Chris\\Anaconda3\\lib\\site-packages\\ipykernel_launcher.py:13: SettingWithCopyWarning: \n",
      "A value is trying to be set on a copy of a slice from a DataFrame.\n",
      "Try using .loc[row_indexer,col_indexer] = value instead\n",
      "\n",
      "See the caveats in the documentation: https://pandas.pydata.org/pandas-docs/stable/user_guide/indexing.html#returning-a-view-versus-a-copy\n",
      "  del sys.path[0]\n"
     ]
    },
    {
     "name": "stdout",
     "output_type": "stream",
     "text": [
      "For PCA 2 : {100: 0.6561, 200: 0.6637, 300: 0.6627, 400: 0.662}\n"
     ]
    },
    {
     "name": "stderr",
     "output_type": "stream",
     "text": [
      "C:\\Users\\Chris\\Anaconda3\\lib\\site-packages\\ipykernel_launcher.py:13: SettingWithCopyWarning: \n",
      "A value is trying to be set on a copy of a slice from a DataFrame.\n",
      "Try using .loc[row_indexer,col_indexer] = value instead\n",
      "\n",
      "See the caveats in the documentation: https://pandas.pydata.org/pandas-docs/stable/user_guide/indexing.html#returning-a-view-versus-a-copy\n",
      "  del sys.path[0]\n"
     ]
    },
    {
     "name": "stdout",
     "output_type": "stream",
     "text": [
      "For PCA 3 : {100: 0.7179, 200: 0.7235, 300: 0.7216, 400: 0.7232}\n"
     ]
    },
    {
     "name": "stderr",
     "output_type": "stream",
     "text": [
      "C:\\Users\\Chris\\Anaconda3\\lib\\site-packages\\ipykernel_launcher.py:13: SettingWithCopyWarning: \n",
      "A value is trying to be set on a copy of a slice from a DataFrame.\n",
      "Try using .loc[row_indexer,col_indexer] = value instead\n",
      "\n",
      "See the caveats in the documentation: https://pandas.pydata.org/pandas-docs/stable/user_guide/indexing.html#returning-a-view-versus-a-copy\n",
      "  del sys.path[0]\n"
     ]
    },
    {
     "name": "stdout",
     "output_type": "stream",
     "text": [
      "For PCA 4 : {100: 0.7474, 200: 0.7503, 300: 0.754, 400: 0.751}\n"
     ]
    }
   ],
   "source": [
    "# Pipeline: scale -> pca(q)\n",
    "\n",
    "for q in range (2,5): #iterating on pca dims\n",
    "    pipe = Pipeline([('scale', StandardScaler()),\n",
    "                   ('pca', PCA(q))])\n",
    "\n",
    "    fit = pipe.fit_transform(X[contvars]) #just doing pca on the contvars\n",
    "\n",
    "    X_fit = pd.DataFrame(fit)\n",
    "    dataaa = X[catvars]\n",
    "    j=0\n",
    "    while j<= q-1:\n",
    "        dataaa[j] = X_fit[j]\n",
    "        j+=1\n",
    "    \n",
    "    #test split\n",
    "    X_train,X_test, y_train, y_test = train_test_split(dataaa,y,\n",
    "                               shuffle = True,\n",
    "                               random_state=314,\n",
    "                               test_size=0.2)\n",
    "    \n",
    "    rf_accuracy = {}\n",
    "    for i in range(1,5):\n",
    "        rf = RandomForestClassifier(n_estimators = 100*i)\n",
    "        rf.fit(X_train,y_train)\n",
    "        y_pred = rf.predict(X_test)\n",
    "        rf_accuracy[100*i] = round(accuracy_score(y_test, y_pred),4)\n",
    "    print('For PCA', q, ':', rf_accuracy)"
   ]
  },
  {
   "cell_type": "markdown",
   "metadata": {},
   "source": [
    "PCA does not seem very successful in improving our models! Our accuracy increases as we include more dimensions, might as well consider all of the variables."
   ]
  },
  {
   "cell_type": "markdown",
   "metadata": {},
   "source": [
    "## Gradient boosting"
   ]
  },
  {
   "cell_type": "code",
   "execution_count": 22,
   "metadata": {},
   "outputs": [],
   "source": [
    "## import GradientBoosting here\n",
    "from sklearn.ensemble import GradientBoostingClassifier\n",
    "from sklearn.tree import DecisionTreeRegressor"
   ]
  },
  {
   "cell_type": "code",
   "execution_count": 25,
   "metadata": {},
   "outputs": [],
   "source": [
    "data1 = data.copy(deep=True)\n",
    "X = data1.drop(['Cover_Type'],axis=1)\n",
    "y = data1['Cover_Type']\n",
    "\n",
    "X_train,X_test, y_train, y_test = train_test_split(X,y,\n",
    "                               shuffle = True,\n",
    "                               random_state=314,\n",
    "                               test_size=0.2)"
   ]
  },
  {
   "cell_type": "code",
   "execution_count": 26,
   "metadata": {},
   "outputs": [
    {
     "name": "stdout",
     "output_type": "stream",
     "text": [
      "Checked i= 8\n",
      "Checked i= 9\n",
      "Checked i= 10\n",
      "Checked i= 11\n",
      "{800: 0.8674, 900: 0.8657, 1000: 0.8697, 1100: 0.8694}\n"
     ]
    }
   ],
   "source": [
    "# Warning: this takes a long time to run.\n",
    "\n",
    "gb_accuracy = {}\n",
    "for i in range(8,12):\n",
    "    gb = GradientBoostingClassifier(n_estimators = 100*i)\n",
    "    gb.fit(X_train,y_train)\n",
    "    y_pred = gb.predict(X_test)\n",
    "    gb_accuracy[100*i] = round(accuracy_score(y_test, y_pred),4)\n",
    "    print('Checked i=', i)\n",
    "print(gb_accuracy)"
   ]
  },
  {
   "cell_type": "markdown",
   "metadata": {},
   "source": [
    "#### Confusion matrix"
   ]
  },
  {
   "cell_type": "code",
   "execution_count": 27,
   "metadata": {},
   "outputs": [],
   "source": [
    "# The best one was i=1000.\n",
    "\n",
    "gb = GradientBoostingClassifier(n_estimators = 1000)\n",
    "gb.fit(X_train,y_train)\n",
    "y_pred = gb.predict(X_test)"
   ]
  },
  {
   "cell_type": "code",
   "execution_count": 31,
   "metadata": {},
   "outputs": [],
   "source": [
    "#importing accuracy_score, precision_score, recall_score, f1_score\n",
    "from sklearn.metrics import accuracy_score, precision_score, recall_score, f1_score\n",
    "from sklearn.metrics import classification_report"
   ]
  },
  {
   "cell_type": "code",
   "execution_count": 32,
   "metadata": {},
   "outputs": [],
   "source": [
    "def print_result(model, y_prediction):\n",
    "    confusion = confusion_matrix(y_test,y_prediction)\n",
    "    cm = pd.DataFrame(confusion, \n",
    "                         index = [i for i in \"1234567\"],\n",
    "                         columns = [i for i in \"1234567\"])\n",
    "    plt.figure(figsize=(8,5))\n",
    "    sns.set(font_scale=1)\n",
    "    sns.heatmap(cm,annot=True,fmt='g', cmap='Blues',\n",
    "               annot_kws={\"size\": 10})\n",
    "    plt.show()\n",
    "        \n",
    "    print(model)\n",
    "    print('\\nAccuracy: {:.2f}\\n'.format(accuracy_score(y_test, y_prediction)))\n",
    "\n",
    "    print('Micro Precision: {:.2f}'.format(precision_score(y_test, y_prediction, average='micro')))\n",
    "    print('Micro Recall: {:.2f}'.format(recall_score(y_test, y_prediction, average='micro')))\n",
    "    print('Micro F1-score: {:.2f}\\n'.format(f1_score(y_test, y_prediction, average='micro')))\n",
    "\n",
    "    print('Macro Precision: {:.2f}'.format(precision_score(y_test, y_prediction, average='macro')))\n",
    "    print('Macro Recall: {:.2f}'.format(recall_score(y_test, y_prediction, average='macro')))\n",
    "    print('Macro F1-score: {:.2f}\\n'.format(f1_score(y_test, y_prediction, average='macro')))\n",
    "\n",
    "    print('Weighted Precision: {:.2f}'.format(precision_score(y_test, y_prediction, average='weighted')))\n",
    "    print('Weighted Recall: {:.2f}'.format(recall_score(y_test, y_prediction, average='weighted')))\n",
    "    print('Weighted F1-score: {:.2f}'.format(f1_score(y_test, y_prediction, average='weighted')))\n",
    "\n",
    "\n",
    "    print('\\nClassification Report\\n')\n",
    "    print(classification_report(y_test, y_prediction, \n",
    "                                target_names=['1','2','3','4','5','6','7']))"
   ]
  },
  {
   "cell_type": "code",
   "execution_count": 33,
   "metadata": {},
   "outputs": [
    {
     "data": {
      "image/png": "[encoded data removed]",
      "text/plain": [
       "<Figure size 576x360 with 2 Axes>"
      ]
     },
     "metadata": {},
     "output_type": "display_data"
    },
    {
     "name": "stdout",
     "output_type": "stream",
     "text": [
      "Base Random Forest\n",
      "\n",
      "Accuracy: 0.87\n",
      "\n",
      "Micro Precision: 0.87\n",
      "Micro Recall: 0.87\n",
      "Micro F1-score: 0.87\n",
      "\n",
      "Macro Precision: 0.87\n",
      "Macro Recall: 0.87\n",
      "Macro F1-score: 0.87\n",
      "\n",
      "Weighted Precision: 0.87\n",
      "Weighted Recall: 0.87\n",
      "Weighted F1-score: 0.87\n",
      "\n",
      "Classification Report\n",
      "\n",
      "              precision    recall  f1-score   support\n",
      "\n",
      "           1       0.79      0.78      0.78       422\n",
      "           2       0.78      0.70      0.74       443\n",
      "           3       0.83      0.86      0.85       419\n",
      "           4       0.95      0.97      0.96       434\n",
      "           5       0.90      0.95      0.92       441\n",
      "           6       0.87      0.85      0.86       465\n",
      "           7       0.94      0.97      0.96       400\n",
      "\n",
      "    accuracy                           0.87      3024\n",
      "   macro avg       0.87      0.87      0.87      3024\n",
      "weighted avg       0.87      0.87      0.87      3024\n",
      "\n"
     ]
    }
   ],
   "source": [
    "print_result(\"Base Random Forest\",y_pred)"
   ]
  },
  {
   "cell_type": "markdown",
   "metadata": {},
   "source": [
    "## Adaboosting\n",
    "This algorithm was not very successful."
   ]
  },
  {
   "cell_type": "code",
   "execution_count": 34,
   "metadata": {},
   "outputs": [],
   "source": [
    "## import adaboosting here\n",
    "from sklearn.ensemble import AdaBoostClassifier\n",
    "from sklearn.tree import DecisionTreeClassifier\n",
    "from sklearn.model_selection import GridSearchCV"
   ]
  },
  {
   "cell_type": "code",
   "execution_count": 35,
   "metadata": {},
   "outputs": [],
   "source": [
    "features = data_train.columns[:-1]\n",
    "\n",
    "n_estimators = range(1,26)\n",
    "\n",
    "grid_cv = GridSearchCV(AdaBoostClassifier(DecisionTreeClassifier(max_depth=2),\n",
    "                                             learning_rate=1),\n",
    "                          param_grid = {'n_estimators':n_estimators}, \n",
    "                          scoring = 'accuracy', \n",
    "                          cv = 10)\n",
    "\n",
    "grid_cv.fit(data_train[features], data_train.Cover_Type)\n",
    "\n",
    "accs = np.zeros((10,len(n_estimators)))\n",
    "\n",
    "for i in range(10):\n",
    "    accs[i,:] = grid_cv.cv_results_['split' + str(i) + '_test_score']"
   ]
  },
  {
   "cell_type": "code",
   "execution_count": null,
   "metadata": {},
   "outputs": [],
   "source": [
    "for i in range(10):\n",
    "    accs[i,:] = grid_cv.cv_results_['split' + str(i) + '_test_score']"
   ]
  },
  {
   "cell_type": "code",
   "execution_count": null,
   "metadata": {},
   "outputs": [],
   "source": [
    "plt.figure(figsize=(12,6))\n",
    "\n",
    "plt.plot(n_estimators,\n",
    "            np.mean(accs, axis=0),\n",
    "         '-o')\n",
    "\n",
    "plt.xlabel(\"n_estimators\", fontsize=18)\n",
    "plt.ylabel(\"Avg. CV Accuracy\", fontsize=18)\n",
    "\n",
    "plt.xticks(fontsize=14)\n",
    "plt.yticks(fontsize=14)\n",
    "\n",
    "plt.show()"
   ]
  },
  {
   "cell_type": "markdown",
   "metadata": {},
   "source": [
    "Our accuracy was only around 55%, so this method is not worth exploring much more."
   ]
  },
  {
   "cell_type": "code",
   "execution_count": null,
   "metadata": {},
   "outputs": [],
   "source": []
  }
 ],
 "metadata": {
  "kernelspec": {
   "display_name": "Python 3",
   "language": "python",
   "name": "python3"
  },
  "language_info": {
   "codemirror_mode": {
    "name": "ipython",
    "version": 3
   },
   "file_extension": ".py",
   "mimetype": "text/x-python",
   "name": "python",
   "nbconvert_exporter": "python",
   "pygments_lexer": "ipython3",
   "version": "3.6.5"
  }
 },
 "nbformat": 4,
 "nbformat_minor": 2
}
